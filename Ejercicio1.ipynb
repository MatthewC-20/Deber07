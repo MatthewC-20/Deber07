{
 "cells": [
  {
   "cell_type": "code",
   "execution_count": 1,
   "id": "7d4b50bd",
   "metadata": {},
   "outputs": [],
   "source": [
    "def spline_cubico_natural(xs, ys):\n",
    "    n = len(xs) - 1  # número de intervalos\n",
    "\n",
    "    # Paso 1: Calcular h[i]\n",
    "    h = [xs[i+1] - xs[i] for i in range(n)]\n",
    "\n",
    "    # Paso 2: Calcular alpha[i]\n",
    "    alpha = [0.0] * (n + 1)\n",
    "    for i in range(1, n):\n",
    "        alpha[i] = (3/h[i]) * (ys[i+1] - ys[i]) - (3/h[i-1]) * (ys[i] - ys[i-1])\n",
    "\n",
    "    # Paso 3: Resolver sistema tridiagonal para c[i]\n",
    "    l = [1.0] + [0.0] * n\n",
    "    mu = [0.0] * (n + 1)\n",
    "    z = [0.0] * (n + 1)\n",
    "    for i in range(1, n):\n",
    "        l[i] = 2 * (xs[i+1] - xs[i-1]) - h[i-1] * mu[i-1]\n",
    "        mu[i] = h[i] / l[i]\n",
    "        z[i] = (alpha[i] - h[i-1]*z[i-1]) / l[i]\n",
    "    l[n] = 1.0\n",
    "    z[n] = 0.0\n",
    "    c = [0.0] * (n + 1)\n",
    "\n",
    "    # Paso hacia atrás para calcular c[i]\n",
    "    for j in reversed(range(n)):\n",
    "        c[j] = z[j] - mu[j] * c[j+1]\n",
    "\n",
    "    # Paso 4: Calcular b[i], d[i], a[i]\n",
    "    b = [0.0] * n\n",
    "    d = [0.0] * n\n",
    "    a = ys[:-1]  # a[i] = y[i]\n",
    "    for i in range(n):\n",
    "        b[i] = (ys[i+1] - ys[i])/h[i] - h[i]*(2*c[i] + c[i+1])/3\n",
    "        d[i] = (c[i+1] - c[i]) / (3*h[i])\n",
    "\n",
    "    # Salida: lista de coeficientes (a, b, c, d) para cada tramo\n",
    "    coeficientes = []\n",
    "    for i in range(n):\n",
    "        coef = (a[i], b[i], c[i], d[i], xs[i])\n",
    "        coeficientes.append(coef)\n",
    "    \n",
    "    return coeficientes\n"
   ]
  },
  {
   "cell_type": "code",
   "execution_count": 2,
   "id": "039a0527",
   "metadata": {},
   "outputs": [
    {
     "name": "stdout",
     "output_type": "stream",
     "text": [
      "Spline 0: S(x) = 1.00 + 5.50(x - 0) + 0.00(x - 0)^2 + -1.50(x - 0)^3\n",
      "Spline 1: S(x) = 5.00 + 1.00(x - 1) + -4.50(x - 1)^2 + 1.50(x - 1)^3\n"
     ]
    }
   ],
   "source": [
    "# Puntos de ejemplo\n",
    "xs = [0, 1, 2]\n",
    "ys = [1, 5, 3]\n",
    "\n",
    "# Calcular los splines\n",
    "splines = spline_cubico_natural(xs, ys)\n",
    "\n",
    "# Mostrar resultados\n",
    "for i, (a, b, c, d, x0) in enumerate(splines):\n",
    "    print(f\"Spline {i}: S(x) = {a:.2f} + {b:.2f}(x - {x0}) + {c:.2f}(x - {x0})^2 + {d:.2f}(x - {x0})^3\")\n"
   ]
  },
  {
   "cell_type": "code",
   "execution_count": 3,
   "id": "588dd2a1",
   "metadata": {},
   "outputs": [
    {
     "name": "stdout",
     "output_type": "stream",
     "text": [
      "S(x) = 1.00 + 1.00(x - (-1)) + -0.50(x - (-1))^2 + 0.25(x - (-1))^3\n"
     ]
    }
   ],
   "source": [
    "def spline_cubico_clamped_2p(x0, y0, x1, y1, fp0, fpn):\n",
    "    h = x1 - x0\n",
    "    a = y0\n",
    "    b = fp0\n",
    "\n",
    "    delta_y = y1 - y0 - b * h\n",
    "    delta_fp = fpn - b\n",
    "\n",
    "    d = (delta_fp - (2 * delta_y / h)) / (h ** 2)\n",
    "    c = (delta_y - d * h ** 3) / (h ** 2)\n",
    "\n",
    "    return a, b, c, d, x0\n",
    "\n",
    "# Datos del problema\n",
    "x0, y0 = -1, 1\n",
    "x1, y1 = 1, 3\n",
    "fp0 = 1\n",
    "fpn = 2\n",
    "\n",
    "# Calcular spline\n",
    "a, b, c, d, base = spline_cubico_clamped_2p(x0, y0, x1, y1, fp0, fpn)\n",
    "\n",
    "# Mostrar resultado\n",
    "print(f\"S(x) = {a:.2f} + {b:.2f}(x - ({base})) + {c:.2f}(x - ({base}))^2 + {d:.2f}(x - ({base}))^3\")\n"
   ]
  }
 ],
 "metadata": {
  "kernelspec": {
   "display_name": "Python 3",
   "language": "python",
   "name": "python3"
  },
  "language_info": {
   "codemirror_mode": {
    "name": "ipython",
    "version": 3
   },
   "file_extension": ".py",
   "mimetype": "text/x-python",
   "name": "python",
   "nbconvert_exporter": "python",
   "pygments_lexer": "ipython3",
   "version": "3.11.9"
  }
 },
 "nbformat": 4,
 "nbformat_minor": 5
}
